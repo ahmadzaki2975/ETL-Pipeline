{
 "cells": [
  {
   "cell_type": "code",
   "execution_count": 7,
   "metadata": {},
   "outputs": [
    {
     "data": {
      "text/html": [
       "<div>\n",
       "<style scoped>\n",
       "    .dataframe tbody tr th:only-of-type {\n",
       "        vertical-align: middle;\n",
       "    }\n",
       "\n",
       "    .dataframe tbody tr th {\n",
       "        vertical-align: top;\n",
       "    }\n",
       "\n",
       "    .dataframe thead th {\n",
       "        text-align: right;\n",
       "    }\n",
       "</style>\n",
       "<table border=\"1\" class=\"dataframe\">\n",
       "  <thead>\n",
       "    <tr style=\"text-align: right;\">\n",
       "      <th></th>\n",
       "      <th>kota</th>\n",
       "      <th>jamCuaca</th>\n",
       "      <th>kodeCuaca</th>\n",
       "      <th>humidity</th>\n",
       "      <th>tempC</th>\n",
       "      <th>tempF</th>\n",
       "      <th>iqa</th>\n",
       "      <th>wind_dir_deg</th>\n",
       "      <th>wind_spd_km_h</th>\n",
       "      <th>pressure_mbar</th>\n",
       "    </tr>\n",
       "  </thead>\n",
       "  <tbody>\n",
       "    <tr>\n",
       "      <th>0</th>\n",
       "      <td>Ambon</td>\n",
       "      <td>2023-11-20 00:00:00</td>\n",
       "      <td>3</td>\n",
       "      <td>80</td>\n",
       "      <td>29.0</td>\n",
       "      <td>84.0</td>\n",
       "      <td>47</td>\n",
       "      <td>174</td>\n",
       "      <td>7.4</td>\n",
       "      <td>1010</td>\n",
       "    </tr>\n",
       "    <tr>\n",
       "      <th>1</th>\n",
       "      <td>Ambon</td>\n",
       "      <td>2023-11-20 06:00:00</td>\n",
       "      <td>3</td>\n",
       "      <td>65</td>\n",
       "      <td>32.0</td>\n",
       "      <td>90.0</td>\n",
       "      <td>52</td>\n",
       "      <td>174</td>\n",
       "      <td>11.1</td>\n",
       "      <td>1011</td>\n",
       "    </tr>\n",
       "    <tr>\n",
       "      <th>2</th>\n",
       "      <td>Ambon</td>\n",
       "      <td>2023-11-20 12:00:00</td>\n",
       "      <td>1</td>\n",
       "      <td>80</td>\n",
       "      <td>28.0</td>\n",
       "      <td>82.0</td>\n",
       "      <td>54</td>\n",
       "      <td>174</td>\n",
       "      <td>18.4</td>\n",
       "      <td>1009</td>\n",
       "    </tr>\n",
       "    <tr>\n",
       "      <th>3</th>\n",
       "      <td>Ambon</td>\n",
       "      <td>2023-11-20 18:00:00</td>\n",
       "      <td>1</td>\n",
       "      <td>95</td>\n",
       "      <td>24.0</td>\n",
       "      <td>75.0</td>\n",
       "      <td>51</td>\n",
       "      <td>174</td>\n",
       "      <td>12.8</td>\n",
       "      <td>1010</td>\n",
       "    </tr>\n",
       "    <tr>\n",
       "      <th>4</th>\n",
       "      <td>Badung</td>\n",
       "      <td>2023-11-20 00:00:00</td>\n",
       "      <td>3</td>\n",
       "      <td>85</td>\n",
       "      <td>28.0</td>\n",
       "      <td>82.0</td>\n",
       "      <td>69</td>\n",
       "      <td>184</td>\n",
       "      <td>3.7</td>\n",
       "      <td>1012</td>\n",
       "    </tr>\n",
       "  </tbody>\n",
       "</table>\n",
       "</div>"
      ],
      "text/plain": [
       "     kota             jamCuaca  kodeCuaca  humidity  tempC  tempF  iqa  \\\n",
       "0   Ambon  2023-11-20 00:00:00          3        80   29.0   84.0   47   \n",
       "1   Ambon  2023-11-20 06:00:00          3        65   32.0   90.0   52   \n",
       "2   Ambon  2023-11-20 12:00:00          1        80   28.0   82.0   54   \n",
       "3   Ambon  2023-11-20 18:00:00          1        95   24.0   75.0   51   \n",
       "4  Badung  2023-11-20 00:00:00          3        85   28.0   82.0   69   \n",
       "\n",
       "   wind_dir_deg  wind_spd_km_h  pressure_mbar  \n",
       "0           174            7.4           1010  \n",
       "1           174           11.1           1011  \n",
       "2           174           18.4           1009  \n",
       "3           174           12.8           1010  \n",
       "4           184            3.7           1012  "
      ]
     },
     "execution_count": 7,
     "metadata": {},
     "output_type": "execute_result"
    }
   ],
   "source": [
    "import pandas as pd\n",
    "import seaborn as sns\n",
    "import matplotlib.pyplot as plt\n",
    "\n",
    "# Memuat data dari file CSV\n",
    "file_path = 'ready-merge.csv'\n",
    "data = pd.read_csv(file_path)\n",
    "\n",
    "data.head()"
   ]
  },
  {
   "cell_type": "markdown",
   "metadata": {},
   "source": [
    "## Pengaruh Variabel Cuaca terhadap Kualitas Udara:"
   ]
  },
  {
   "cell_type": "code",
   "execution_count": 8,
   "metadata": {},
   "outputs": [
    {
     "name": "stdout",
     "output_type": "stream",
     "text": [
      "                            OLS Regression Results                            \n",
      "==============================================================================\n",
      "Dep. Variable:                    iqa   R-squared:                       0.059\n",
      "Model:                            OLS   Adj. R-squared:                  0.058\n",
      "Method:                 Least Squares   F-statistic:                     40.73\n",
      "Date:                Tue, 28 Nov 2023   Prob (F-statistic):           9.28e-41\n",
      "Time:                        01:38:44   Log-Likelihood:                -14851.\n",
      "No. Observations:                3240   AIC:                         2.971e+04\n",
      "Df Residuals:                    3234   BIC:                         2.975e+04\n",
      "Df Model:                           5                                         \n",
      "Covariance Type:            nonrobust                                         \n",
      "=================================================================================\n",
      "                    coef    std err          t      P>|t|      [0.025      0.975]\n",
      "---------------------------------------------------------------------------------\n",
      "const          2171.3172    209.487     10.365      0.000    1760.576    2582.058\n",
      "tempC            -0.6473      0.232     -2.792      0.005      -1.102      -0.193\n",
      "humidity         -0.4218      0.066     -6.429      0.000      -0.551      -0.293\n",
      "wind_dir_deg     -0.0324      0.005     -6.903      0.000      -0.042      -0.023\n",
      "wind_spd_km_h    -0.1605      0.087     -1.835      0.067      -0.332       0.011\n",
      "pressure_mbar    -2.0396      0.205     -9.955      0.000      -2.441      -1.638\n",
      "==============================================================================\n",
      "Omnibus:                     1116.557   Durbin-Watson:                   0.744\n",
      "Prob(Omnibus):                  0.000   Jarque-Bera (JB):             4940.542\n",
      "Skew:                           1.619   Prob(JB):                         0.00\n",
      "Kurtosis:                       8.109   Cond. No.                     5.16e+05\n",
      "==============================================================================\n",
      "\n",
      "Notes:\n",
      "[1] Standard Errors assume that the covariance matrix of the errors is correctly specified.\n",
      "[2] The condition number is large, 5.16e+05. This might indicate that there are\n",
      "strong multicollinearity or other numerical problems.\n"
     ]
    }
   ],
   "source": [
    "import statsmodels.api as sm\n",
    "\n",
    "# Pisahkan variabel prediktor (cuaca) dan target (iqa)\n",
    "X = data[['tempC', 'humidity', 'wind_dir_deg', 'wind_spd_km_h', 'pressure_mbar']]\n",
    "y = data['iqa']\n",
    "\n",
    "# Tambahkan konstanta ke variabel prediktor\n",
    "X = sm.add_constant(X)\n",
    "\n",
    "# Buat model regresi linear\n",
    "model = sm.OLS(y, X).fit()\n",
    "\n",
    "# Tampilkan hasil ringkasan model\n",
    "print(model.summary())\n"
   ]
  },
  {
   "cell_type": "markdown",
   "metadata": {},
   "source": [
    "## Perbandingan Rata-rata atau Distribusi:"
   ]
  },
  {
   "cell_type": "markdown",
   "metadata": {},
   "source": [
    "### Uji T Independen"
   ]
  },
  {
   "cell_type": "code",
   "execution_count": 9,
   "metadata": {},
   "outputs": [
    {
     "name": "stdout",
     "output_type": "stream",
     "text": [
      "Terdapat perbedaan signifikan antara rata-rata variabel 'tempC' pada dua kelompok IQA.\n"
     ]
    }
   ],
   "source": [
    "from scipy.stats import ttest_ind\n",
    "\n",
    "# Misalnya, kita ingin membandingkan variabel 'tempC' antara kelompok IQA rendah dan tinggi\n",
    "group_low_iqa = data[data['iqa'] < 35.5]  # Tentukan batas untuk kelompok IQA rendah\n",
    "group_high_iqa = data[data['iqa'] >= 35.5]  # Kelompok IQA tinggi\n",
    "\n",
    "# Lakukan uji t-independen untuk variabel 'tempC' antara dua kelompok IQA\n",
    "t_stat, p_value = ttest_ind(group_low_iqa['tempC'], group_high_iqa['tempC'])\n",
    "\n",
    "# Tampilkan hasil\n",
    "if p_value < 0.05:  # Ubah nilai alpha sesuai kebutuhan\n",
    "    print(\"Terdapat perbedaan signifikan antara rata-rata variabel 'tempC' pada dua kelompok IQA.\")\n",
    "else:\n",
    "    print(\"Tidak ada perbedaan signifikan antara rata-rata variabel 'tempC' pada dua kelompok IQA.\")\n"
   ]
  },
  {
   "cell_type": "code",
   "execution_count": 10,
   "metadata": {},
   "outputs": [
    {
     "data": {
      "image/png": "[encoded data removed]",
      "text/plain": [
       "<Figure size 800x600 with 1 Axes>"
      ]
     },
     "metadata": {},
     "output_type": "display_data"
    }
   ],
   "source": [
    "import matplotlib.pyplot as plt\n",
    "\n",
    "# Buat boxplot untuk kelompok IQA rendah dan tinggi pada variabel 'tempC'\n",
    "plt.figure(figsize=(8, 6))\n",
    "plt.boxplot([group_low_iqa['tempC'], group_high_iqa['tempC']], labels=['IQA Rendah', 'IQA Tinggi'])\n",
    "plt.title('Perbandingan Variabel tempC antara IQA Rendah dan Tinggi')\n",
    "plt.xlabel('Kelompok IQA')\n",
    "plt.ylabel('tempC')\n",
    "plt.grid(axis='y')\n",
    "plt.show()\n"
   ]
  },
  {
   "cell_type": "code",
   "execution_count": null,
   "metadata": {},
   "outputs": [],
   "source": []
  }
 ],
 "metadata": {
  "kernelspec": {
   "display_name": "Python 3",
   "language": "python",
   "name": "python3"
  },
  "language_info": {
   "codemirror_mode": {
    "name": "ipython",
    "version": 3
   },
   "file_extension": ".py",
   "mimetype": "text/x-python",
   "name": "python",
   "nbconvert_exporter": "python",
   "pygments_lexer": "ipython3",
   "version": "3.8.9"
  }
 },
 "nbformat": 4,
 "nbformat_minor": 2
}
